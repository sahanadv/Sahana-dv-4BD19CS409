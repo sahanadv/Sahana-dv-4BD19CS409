{
 "cells": [
  {
   "cell_type": "markdown",
   "metadata": {
    "id": "fwU2iooz85jt"
   },
   "source": [
    "## Exercises\n",
    "\n",
    "Answer the questions or complete the tasks outlined in bold below, use the specific method described if applicable."
   ]
  },
  {
   "cell_type": "markdown",
   "metadata": {
    "id": "SzBQQ_ml85j1"
   },
   "source": [
    "** What is 7 to the power of 4?**"
   ]
  },
  {
   "cell_type": "code",
   "execution_count": 1,
   "metadata": {
    "colab": {
     "base_uri": "https://localhost:8080/"
    },
    "executionInfo": {
     "elapsed": 22,
     "status": "ok",
     "timestamp": 1631684700929,
     "user": {
      "displayName": "Sahana D V",
      "photoUrl": "https://lh3.googleusercontent.com/a-/AOh14GgjDBIm7-8YwvHhCrP8KYDNQftmbc1MNfgTX72NHQ=s64",
      "userId": "12291236569951021201"
     },
     "user_tz": -330
    },
    "id": "UhvE4PBC85j3",
    "outputId": "5b3d73ac-7767-4685-e21a-63e1c4427a80"
   },
   "outputs": [
    {
     "name": "stdout",
     "output_type": "stream",
     "text": [
      "2401\n"
     ]
    }
   ],
   "source": [
    "x = pow(7,4)\n",
    "\n",
    "print(x)"
   ]
  },
  {
   "cell_type": "markdown",
   "metadata": {
    "id": "ds8G9S8j85j6"
   },
   "source": [
    "** Split this string:**\n",
    "\n",
    "    s = \"Hi there Sam!\"\n",
    "    \n",
    "**into a list. **"
   ]
  },
  {
   "cell_type": "code",
   "execution_count": 2,
   "metadata": {
    "collapsed": true,
    "executionInfo": {
     "elapsed": 1746,
     "status": "ok",
     "timestamp": 1631684848971,
     "user": {
      "displayName": "Sahana D V",
      "photoUrl": "https://lh3.googleusercontent.com/a-/AOh14GgjDBIm7-8YwvHhCrP8KYDNQftmbc1MNfgTX72NHQ=s64",
      "userId": "12291236569951021201"
     },
     "user_tz": -330
    },
    "id": "GD_Tls3H85j7"
   },
   "outputs": [],
   "source": [
    "s = \"Hi there Sam!\"\n",
    "\n",
    "x = s.split()\n",
    "\n"
   ]
  },
  {
   "cell_type": "code",
   "execution_count": 3,
   "metadata": {
    "colab": {
     "base_uri": "https://localhost:8080/"
    },
    "executionInfo": {
     "elapsed": 535,
     "status": "ok",
     "timestamp": 1631684860336,
     "user": {
      "displayName": "Sahana D V",
      "photoUrl": "https://lh3.googleusercontent.com/a-/AOh14GgjDBIm7-8YwvHhCrP8KYDNQftmbc1MNfgTX72NHQ=s64",
      "userId": "12291236569951021201"
     },
     "user_tz": -330
    },
    "id": "RRGOKoai85j8",
    "outputId": "5b7b08d6-8f46-499a-f56c-702bdadf9307"
   },
   "outputs": [
    {
     "name": "stdout",
     "output_type": "stream",
     "text": [
      "['Hi', 'there', 'Sam!']\n"
     ]
    }
   ],
   "source": [
    "print(x)"
   ]
  },
  {
   "cell_type": "markdown",
   "metadata": {
    "id": "_bBNOu-785j9"
   },
   "source": [
    "** Given the variables:**\n",
    "\n",
    "    planet = \"Earth\"\n",
    "    diameter = 12742\n",
    "\n",
    "** Use .format() to print the following string: **\n",
    "\n",
    "    The diameter of Earth is 12742 kilometers."
   ]
  },
  {
   "cell_type": "code",
   "execution_count": 8,
   "metadata": {
    "colab": {
     "base_uri": "https://localhost:8080/"
    },
    "collapsed": true,
    "executionInfo": {
     "elapsed": 512,
     "status": "ok",
     "timestamp": 1631685438371,
     "user": {
      "displayName": "Sahana D V",
      "photoUrl": "https://lh3.googleusercontent.com/a-/AOh14GgjDBIm7-8YwvHhCrP8KYDNQftmbc1MNfgTX72NHQ=s64",
      "userId": "12291236569951021201"
     },
     "user_tz": -330
    },
    "id": "2TrzmDcS85j-",
    "outputId": "510f336f-b1fb-49c6-e416-8307e9cbdcc9"
   },
   "outputs": [
    {
     "name": "stdout",
     "output_type": "stream",
     "text": [
      "The diameter of Earth is 12742 kilometers.\n"
     ]
    }
   ],
   "source": [
    "planet = \"Earth\"\n",
    "print (\"The diameter of {} is 12742 kilometers.\".format(planet))"
   ]
  },
  {
   "cell_type": "code",
   "execution_count": 9,
   "metadata": {
    "colab": {
     "base_uri": "https://localhost:8080/"
    },
    "executionInfo": {
     "elapsed": 515,
     "status": "ok",
     "timestamp": 1631685498685,
     "user": {
      "displayName": "Sahana D V",
      "photoUrl": "https://lh3.googleusercontent.com/a-/AOh14GgjDBIm7-8YwvHhCrP8KYDNQftmbc1MNfgTX72NHQ=s64",
      "userId": "12291236569951021201"
     },
     "user_tz": -330
    },
    "id": "s_dQ7_xc85j_",
    "outputId": "7b75096a-ddcb-4314-e1f0-5bb81984b0ea"
   },
   "outputs": [
    {
     "name": "stdout",
     "output_type": "stream",
     "text": [
      "The diameter of Earth is 12742 kilometers.\n"
     ]
    }
   ],
   "source": [
    "diameter = 12742\n",
    "print (\"The diameter of Earth is {} kilometers.\".format(diameter))"
   ]
  },
  {
   "cell_type": "markdown",
   "metadata": {
    "id": "QAKtN7Hh85kB"
   },
   "source": [
    "** Given this nested list, use indexing to grab the word \"hello\" **"
   ]
  },
  {
   "cell_type": "code",
   "execution_count": null,
   "metadata": {
    "collapsed": true,
    "id": "-7dzQDyK85kD"
   },
   "outputs": [],
   "source": [
    "lst = [1,2,[3,4],[5,[100,200,['hello']],23,11],1,7]"
   ]
  },
  {
   "cell_type": "code",
   "execution_count": 10,
   "metadata": {
    "colab": {
     "base_uri": "https://localhost:8080/"
    },
    "executionInfo": {
     "elapsed": 412,
     "status": "ok",
     "timestamp": 1631685666622,
     "user": {
      "displayName": "Sahana D V",
      "photoUrl": "https://lh3.googleusercontent.com/a-/AOh14GgjDBIm7-8YwvHhCrP8KYDNQftmbc1MNfgTX72NHQ=s64",
      "userId": "12291236569951021201"
     },
     "user_tz": -330
    },
    "id": "6m5C0sTW85kE",
    "outputId": "d37158fa-1d96-4cbc-be2e-56ed0ee5b333"
   },
   "outputs": [
    {
     "name": "stdout",
     "output_type": "stream",
     "text": [
      "hello\n"
     ]
    }
   ],
   "source": [
    "lst = [1,2,[3,4],[5,[100,200,['hello']],23,11],1,7]\n",
    "print(lst[3][1][2][0])"
   ]
  },
  {
   "cell_type": "markdown",
   "metadata": {
    "id": "9Ma7M4a185kF"
   },
   "source": [
    "** Given this nest dictionary grab the word \"hello\". Be prepared, this will be annoying/tricky **"
   ]
  },
  {
   "cell_type": "code",
   "execution_count": 12,
   "metadata": {
    "executionInfo": {
     "elapsed": 610,
     "status": "ok",
     "timestamp": 1631685802301,
     "user": {
      "displayName": "Sahana D V",
      "photoUrl": "https://lh3.googleusercontent.com/a-/AOh14GgjDBIm7-8YwvHhCrP8KYDNQftmbc1MNfgTX72NHQ=s64",
      "userId": "12291236569951021201"
     },
     "user_tz": -330
    },
    "id": "vrYAxSYN85kG"
   },
   "outputs": [],
   "source": [
    "d = {'k1':[1,2,3,{'tricky':['oh','man','inception',{'target':[1,2,3,'hello']}]}]}"
   ]
  },
  {
   "cell_type": "code",
   "execution_count": 13,
   "metadata": {
    "colab": {
     "base_uri": "https://localhost:8080/"
    },
    "executionInfo": {
     "elapsed": 709,
     "status": "ok",
     "timestamp": 1631685806776,
     "user": {
      "displayName": "Sahana D V",
      "photoUrl": "https://lh3.googleusercontent.com/a-/AOh14GgjDBIm7-8YwvHhCrP8KYDNQftmbc1MNfgTX72NHQ=s64",
      "userId": "12291236569951021201"
     },
     "user_tz": -330
    },
    "id": "FlILSdm485kH",
    "outputId": "f0c757fc-784e-4b7f-fbfc-677c179352f1"
   },
   "outputs": [
    {
     "name": "stdout",
     "output_type": "stream",
     "text": [
      "hello\n"
     ]
    }
   ],
   "source": [
    "print(d['k1'][3][\"tricky\"][3]['target'][3])\n"
   ]
  },
  {
   "cell_type": "markdown",
   "metadata": {
    "id": "FInV_FKB85kI"
   },
   "source": [
    "** What is the main difference between a tuple and a list? **"
   ]
  },
  {
   "cell_type": "code",
   "execution_count": 15,
   "metadata": {
    "colab": {
     "base_uri": "https://localhost:8080/",
     "height": 35
    },
    "collapsed": true,
    "executionInfo": {
     "elapsed": 419,
     "status": "ok",
     "timestamp": 1631685888225,
     "user": {
      "displayName": "Sahana D V",
      "photoUrl": "https://lh3.googleusercontent.com/a-/AOh14GgjDBIm7-8YwvHhCrP8KYDNQftmbc1MNfgTX72NHQ=s64",
      "userId": "12291236569951021201"
     },
     "user_tz": -330
    },
    "id": "_VBWf00q85kJ",
    "outputId": "9fdc443b-f468-447c-e6bf-4f94e775431f"
   },
   "outputs": [
    {
     "data": {
      "application/vnd.google.colaboratory.intrinsic+json": {
       "type": "string"
      },
      "text/plain": [
       "'\\ntuple is immutable, and list is muutable '"
      ]
     },
     "execution_count": 15,
     "metadata": {},
     "output_type": "execute_result"
    }
   ],
   "source": [
    "t = (1, 2, 3)\n",
    "list = [1, 2, 3, 4, 5]\n",
    "\n",
    "'''\n",
    "tuple is immutable, and list is muutable '''"
   ]
  },
  {
   "cell_type": "markdown",
   "metadata": {
    "id": "zP-j0HZj85kK"
   },
   "source": [
    "** Create a function that grabs the email website domain from a string in the form: **\n",
    "\n",
    "    user@domain.com\n",
    "    \n",
    "**So for example, passing \"user@domain.com\" would return: domain.com**"
   ]
  },
  {
   "cell_type": "code",
   "execution_count": 16,
   "metadata": {
    "colab": {
     "base_uri": "https://localhost:8080/"
    },
    "collapsed": true,
    "executionInfo": {
     "elapsed": 29508,
     "status": "ok",
     "timestamp": 1631685978229,
     "user": {
      "displayName": "Sahana D V",
      "photoUrl": "https://lh3.googleusercontent.com/a-/AOh14GgjDBIm7-8YwvHhCrP8KYDNQftmbc1MNfgTX72NHQ=s64",
      "userId": "12291236569951021201"
     },
     "user_tz": -330
    },
    "id": "unvEAwjk85kL",
    "outputId": "db81a086-1bcb-4954-c91f-fda6ac5ed41f"
   },
   "outputs": [
    {
     "name": "stdout",
     "output_type": "stream",
     "text": [
      "Please enter your email: >user@domain.com\n",
      "Your domain is: domain.com\n"
     ]
    }
   ],
   "source": [
    "def domainGet(email):\n",
    "    print(\"Your domain is: \" + email.split('@')[-1])\n",
    "\n",
    "email = input(\"Please enter your email: >\")\n",
    "domainGet(email)"
   ]
  },
  {
   "cell_type": "code",
   "execution_count": null,
   "metadata": {
    "id": "Gb9dspLC85kL",
    "outputId": "4216116b-da08-45a2-9545-d6b13bcefaeb"
   },
   "outputs": [
    {
     "data": {
      "text/plain": [
       "'domain.com'"
      ]
     },
     "execution_count": 26,
     "metadata": {
      "tags": []
     },
     "output_type": "execute_result"
    }
   ],
   "source": []
  },
  {
   "cell_type": "markdown",
   "metadata": {
    "id": "gYydb-y085kM"
   },
   "source": [
    "** Create a basic function that returns True if the word 'dog' is contained in the input string. Don't worry about edge cases like a punctuation being attached to the word dog, but do account for capitalization. **"
   ]
  },
  {
   "cell_type": "code",
   "execution_count": 19,
   "metadata": {
    "colab": {
     "base_uri": "https://localhost:8080/"
    },
    "collapsed": true,
    "executionInfo": {
     "elapsed": 4726,
     "status": "ok",
     "timestamp": 1631686078400,
     "user": {
      "displayName": "Sahana D V",
      "photoUrl": "https://lh3.googleusercontent.com/a-/AOh14GgjDBIm7-8YwvHhCrP8KYDNQftmbc1MNfgTX72NHQ=s64",
      "userId": "12291236569951021201"
     },
     "user_tz": -330
    },
    "id": "Q4ldLGV785kM",
    "outputId": "3db4a00a-4bf2-4145-dca2-c866f54d6b98"
   },
   "outputs": [
    {
     "name": "stdout",
     "output_type": "stream",
     "text": [
      "Please key a string: >dog\n",
      "True\n"
     ]
    }
   ],
   "source": [
    "def findDog(st):\n",
    "    if 'dog' in st.lower():\n",
    "        print(\"True\")\n",
    "    else:\n",
    "        print(\"False\")\n",
    "\n",
    "st = input(\"Please key a string: >\")\n",
    "findDog(st)"
   ]
  },
  {
   "cell_type": "code",
   "execution_count": null,
   "metadata": {
    "id": "EqH6b7yv85kN",
    "outputId": "e7909af1-8df1-4534-fc8c-27b03d7369e5"
   },
   "outputs": [
    {
     "data": {
      "text/plain": [
       "True"
      ]
     },
     "execution_count": 28,
     "metadata": {
      "tags": []
     },
     "output_type": "execute_result"
    }
   ],
   "source": []
  },
  {
   "cell_type": "markdown",
   "metadata": {
    "id": "AyHQFALC85kO"
   },
   "source": [
    "** Create a function that counts the number of times the word \"dog\" occurs in a string. Again ignore edge cases. **"
   ]
  },
  {
   "cell_type": "code",
   "execution_count": 21,
   "metadata": {
    "colab": {
     "base_uri": "https://localhost:8080/"
    },
    "executionInfo": {
     "elapsed": 5010,
     "status": "ok",
     "timestamp": 1631686189053,
     "user": {
      "displayName": "Sahana D V",
      "photoUrl": "https://lh3.googleusercontent.com/a-/AOh14GgjDBIm7-8YwvHhCrP8KYDNQftmbc1MNfgTX72NHQ=s64",
      "userId": "12291236569951021201"
     },
     "user_tz": -330
    },
    "id": "6hdc169585kO",
    "outputId": "a356958f-2a4f-4208-91d9-6a989be36d39"
   },
   "outputs": [
    {
     "name": "stdout",
     "output_type": "stream",
     "text": [
      "Please enter your string: dogs\n",
      "1\n"
     ]
    }
   ],
   "source": [
    "string = input(\"Please enter your string: \")\n",
    "\n",
    "def countdogs(string):\n",
    "    count = 0\n",
    "    for word in string.lower().split():\n",
    "        if word == 'dog' or word == 'dogs':\n",
    "            count = count + 1\n",
    "            print(count)\n",
    "\n",
    "countdogs(string)"
   ]
  },
  {
   "cell_type": "code",
   "execution_count": null,
   "metadata": {
    "id": "igzsvHb385kO",
    "outputId": "0602a2b5-0b18-48d8-e2d4-fe644cbccf8a"
   },
   "outputs": [
    {
     "data": {
      "text/plain": [
       "2"
      ]
     },
     "execution_count": 31,
     "metadata": {
      "tags": []
     },
     "output_type": "execute_result"
    }
   ],
   "source": []
  },
  {
   "cell_type": "markdown",
   "metadata": {
    "id": "3n7jJt4k85kP"
   },
   "source": [
    "### Final Problem\n",
    "**You are driving a little too fast, and a police officer stops you. Write a function\n",
    "  to return one of 3 possible results: \"No ticket\", \"Small ticket\", or \"Big Ticket\". \n",
    "  If your speed is 60 or less, the result is \"No Ticket\". If speed is between 61 \n",
    "  and 80 inclusive, the result is \"Small Ticket\". If speed is 81 or more, the result is \"Big    Ticket\". Unless it is your birthday (encoded as a boolean value in the parameters of the function) -- on your birthday, your speed can be 5 higher in all \n",
    "  cases. **"
   ]
  },
  {
   "cell_type": "code",
   "execution_count": 22,
   "metadata": {
    "collapsed": true,
    "executionInfo": {
     "elapsed": 716,
     "status": "ok",
     "timestamp": 1631686310000,
     "user": {
      "displayName": "Sahana D V",
      "photoUrl": "https://lh3.googleusercontent.com/a-/AOh14GgjDBIm7-8YwvHhCrP8KYDNQftmbc1MNfgTX72NHQ=s64",
      "userId": "12291236569951021201"
     },
     "user_tz": -330
    },
    "id": "nvXMkvWk85kQ"
   },
   "outputs": [],
   "source": [
    "def caught_speeding(speed, is_birthday):\n",
    "    \n",
    "    if is_birthday:\n",
    "        speeding = speed - 5\n",
    "    else:\n",
    "        speeding = speed\n",
    "    \n",
    "    if speeding > 80:\n",
    "        return 'Big Ticket'\n",
    "    elif speeding > 60:\n",
    "        return 'Small Ticket'\n",
    "    else:\n",
    "        return 'No Ticket'"
   ]
  },
  {
   "cell_type": "code",
   "execution_count": 24,
   "metadata": {
    "colab": {
     "base_uri": "https://localhost:8080/",
     "height": 137
    },
    "executionInfo": {
     "elapsed": 33716,
     "status": "ok",
     "timestamp": 1631686666510,
     "user": {
      "displayName": "Sahana D V",
      "photoUrl": "https://lh3.googleusercontent.com/a-/AOh14GgjDBIm7-8YwvHhCrP8KYDNQftmbc1MNfgTX72NHQ=s64",
      "userId": "12291236569951021201"
     },
     "user_tz": -330
    },
    "id": "p1AGJ7DM85kR",
    "outputId": "d560c3fb-884b-4965-ff9c-f1a153aee859"
   },
   "outputs": [
    {
     "name": "stdout",
     "output_type": "stream",
     "text": [
      "Please enter the speed(km/h)(only number please): \n",
      "\n",
      "> 80\n",
      "Please enter your birthday: (in DD/MM/YYYY format)\n",
      "\n",
      "> 18/08/1986\n"
     ]
    },
    {
     "data": {
      "application/vnd.google.colaboratory.intrinsic+json": {
       "type": "string"
      },
      "text/plain": [
       "'Small Ticket'"
      ]
     },
     "execution_count": 24,
     "metadata": {},
     "output_type": "execute_result"
    }
   ],
   "source": [
    "print(\"Please enter the speed(km/h)(only number please): \\n\")\n",
    "speed = int(input(\"> \"))\n",
    "\n",
    "print(\"Please enter your birthday: (in DD/MM/YYYY format)\\n\")\n",
    "birthday = str(input(\"> \"))\n",
    "\n",
    "caught_speeding(speed, birthday)"
   ]
  },
  {
   "cell_type": "code",
   "execution_count": 25,
   "metadata": {
    "colab": {
     "base_uri": "https://localhost:8080/",
     "height": 137
    },
    "executionInfo": {
     "elapsed": 19423,
     "status": "ok",
     "timestamp": 1631686710590,
     "user": {
      "displayName": "Sahana D V",
      "photoUrl": "https://lh3.googleusercontent.com/a-/AOh14GgjDBIm7-8YwvHhCrP8KYDNQftmbc1MNfgTX72NHQ=s64",
      "userId": "12291236569951021201"
     },
     "user_tz": -330
    },
    "id": "BU_UZcyk85kS",
    "outputId": "08bee2e5-6b44-4f94-fd34-5f56b358d277"
   },
   "outputs": [
    {
     "name": "stdout",
     "output_type": "stream",
     "text": [
      "Please enter the speed(km/h)(only number please): \n",
      "\n",
      "> 100\n",
      "Please enter your birthday: (in DD/MM/YYYY format)\n",
      "\n",
      "> 25/04/1964\n"
     ]
    },
    {
     "data": {
      "application/vnd.google.colaboratory.intrinsic+json": {
       "type": "string"
      },
      "text/plain": [
       "'Big Ticket'"
      ]
     },
     "execution_count": 25,
     "metadata": {},
     "output_type": "execute_result"
    }
   ],
   "source": [
    "print(\"Please enter the speed(km/h)(only number please): \\n\")\n",
    "speed = int(input(\"> \"))\n",
    "\n",
    "print(\"Please enter your birthday: (in DD/MM/YYYY format)\\n\")\n",
    "birthday = str(input(\"> \"))\n",
    "\n",
    "caught_speeding(speed, birthday)"
   ]
  },
  {
   "cell_type": "markdown",
   "metadata": {
    "id": "QL7sY6NR85kT"
   },
   "source": [
    "# Great job!"
   ]
  }
 ],
 "metadata": {
  "colab": {
   "name": "Copy of Assignment-1 python exercise.ipynb",
   "provenance": [
    {
     "file_id": "1v3_C0McrPL7IGe0dNyViugPXrXkkx_-s",
     "timestamp": 1631686724512
    }
   ]
  },
  "kernelspec": {
   "display_name": "Python 3",
   "language": "python",
   "name": "python3"
  },
  "language_info": {
   "codemirror_mode": {
    "name": "ipython",
    "version": 3
   },
   "file_extension": ".py",
   "mimetype": "text/x-python",
   "name": "python",
   "nbconvert_exporter": "python",
   "pygments_lexer": "ipython3",
   "version": "3.7.3"
  }
 },
 "nbformat": 4,
 "nbformat_minor": 1
}
